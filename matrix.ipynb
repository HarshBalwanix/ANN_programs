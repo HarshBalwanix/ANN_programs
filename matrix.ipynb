{
 "cells": [
  {
   "cell_type": "code",
   "execution_count": 2,
   "metadata": {},
   "outputs": [
    {
     "ename": "ModuleNotFoundError",
     "evalue": "No module named 'tensorflow'",
     "output_type": "error",
     "traceback": [
      "\u001b[1;31m---------------------------------------------------------------------------\u001b[0m",
      "\u001b[1;31mModuleNotFoundError\u001b[0m                       Traceback (most recent call last)",
      "\u001b[1;32m~\\AppData\\Local\\Temp/ipykernel_10408/2302841769.py\u001b[0m in \u001b[0;36m<module>\u001b[1;34m\u001b[0m\n\u001b[1;32m----> 1\u001b[1;33m \u001b[1;32mimport\u001b[0m \u001b[0mtensorflow\u001b[0m \u001b[1;32mas\u001b[0m \u001b[0mtf\u001b[0m\u001b[1;33m\u001b[0m\u001b[1;33m\u001b[0m\u001b[0m\n\u001b[0m\u001b[0;32m      2\u001b[0m \u001b[1;33m\u001b[0m\u001b[0m\n\u001b[0;32m      3\u001b[0m \u001b[0mtf\u001b[0m\u001b[1;33m.\u001b[0m\u001b[0mcompat\u001b[0m\u001b[1;33m.\u001b[0m\u001b[0mv1\u001b[0m\u001b[1;33m.\u001b[0m\u001b[0mdisable_eager_execution\u001b[0m\u001b[1;33m(\u001b[0m\u001b[1;33m)\u001b[0m\u001b[1;33m\u001b[0m\u001b[1;33m\u001b[0m\u001b[0m\n\u001b[0;32m      4\u001b[0m \u001b[1;33m\u001b[0m\u001b[0m\n\u001b[0;32m      5\u001b[0m \u001b[1;31m# Create two matrices\u001b[0m\u001b[1;33m\u001b[0m\u001b[1;33m\u001b[0m\u001b[0m\n",
      "\u001b[1;31mModuleNotFoundError\u001b[0m: No module named 'tensorflow'"
     ]
    }
   ],
   "source": [
    "# Addition of two matrices\n",
    "import tensorflow as tf \n",
    "\n",
    "tf.compat.v1.disable_eager_execution() \n",
    "\n",
    "# Create two matrices \n",
    "\n",
    "matrix1 = tf.constant([[1, 2], [3, 4]]) \n",
    "\n",
    "matrix2 = tf.constant([[5, 6], [7, 8]]) \n",
    "\n",
    "\n",
    "# Add the matrices \n",
    "\n",
    "result = tf.add(matrix1, matrix2) \n",
    "\n",
    " \n",
    "\n",
    "# Start a TensorFlow session \n",
    "\n",
    "with tf.compat.v1.Session() as sess: \n",
    "\n",
    "    # Run the addition operation \n",
    "\n",
    "    addition_result = sess.run(result) \n",
    "\n",
    "    print(addition_result)"
   ]
  },
  {
   "cell_type": "code",
   "execution_count": null,
   "metadata": {},
   "outputs": [],
   "source": [
    "# Matrix Multiplication\n",
    "import tensorflow as tf \n",
    "tf.compat.v1.disable_eager_execution() \n",
    "# Create two matrices \n",
    "matrix1 = tf.constant([[1, 2], [3, 4]]) \n",
    "matrix2 = tf.constant([[5, 6], [7, 8]]) \n",
    "# Multiply the matrices \n",
    "result = tf.matmul(matrix1, matrix2) \n",
    "# Start a TensorFlow session \n",
    "with tf.compat.v1.Session() as sess: \n",
    "    # Run the multiplication operation \n",
    "    multiplication_result = sess.run(result) \n",
    "    print(multiplication_result) "
   ]
  },
  {
   "cell_type": "code",
   "execution_count": null,
   "metadata": {},
   "outputs": [],
   "source": [
    "# Matrix Transpose\n",
    "import tensorflow as tf \n",
    "\n",
    "tf.compat.v1.disable_eager_execution() \n",
    "\n",
    "# Create a matrix \n",
    "\n",
    "matrix = tf.constant([[1, 2], [3, 4]]) \n",
    "\n",
    " \n",
    "\n",
    "# Transpose the matrix \n",
    "\n",
    "result = tf.transpose(matrix) \n",
    "\n",
    " \n",
    "\n",
    "# Start a TensorFlow session \n",
    "\n",
    "with tf.compat.v1.Session() as sess: \n",
    "\n",
    "    # Run the transpose operation \n",
    "\n",
    "    transpose_result = sess.run(result) \n",
    "\n",
    "    print(transpose_result) "
   ]
  }
 ],
 "metadata": {
  "kernelspec": {
   "display_name": "Python 3",
   "language": "python",
   "name": "python3"
  },
  "language_info": {
   "codemirror_mode": {
    "name": "ipython",
    "version": 3
   },
   "file_extension": ".py",
   "mimetype": "text/x-python",
   "name": "python",
   "nbconvert_exporter": "python",
   "pygments_lexer": "ipython3",
   "version": "3.10.0"
  },
  "orig_nbformat": 4
 },
 "nbformat": 4,
 "nbformat_minor": 2
}
