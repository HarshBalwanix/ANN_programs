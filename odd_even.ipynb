{
 "cells": [
  {
   "cell_type": "code",
   "execution_count": null,
   "metadata": {},
   "outputs": [],
   "source": [
    "import numpy as np\n",
    "\n",
    "from keras.models import Sequential\n",
    "\n",
    "from keras.layers import Dense\n",
    "\n",
    "# Generate training data\n",
    "\n",
    "X_train = np.array([i for i in range(101)]) # Numbers from 0 to 100\n",
    "\n",
    "y_train = np.array([1 if i % 2 == 0 else 0 for i in range(101)]) # 1 for even, 0 for odd\n",
    "\n",
    "# Create a neural network model\n",
    "\n",
    "model = Sequential()\n",
    "\n",
    "model.add(Dense(10, activation='relu', input_dim=1))\n",
    "\n",
    "model.add(Dense(1, activation='sigmoid'))\n",
    "\n",
    "# Compile the model\n",
    "\n",
    "model.compile(loss='binary_crossentropy', optimizer='adam', metrics=['accuracy'])\n",
    "\n",
    "# Train the model\n",
    "\n",
    "model.fit(X_train, y_train, epochs=50, batch_size=10)\n",
    "\n",
    "# Test the model\n",
    "\n",
    "X_test = np.array([77, 88, 99, 102]) # Some test numbers\n",
    "\n",
    "predictions = model.predict(X_test)\n",
    "\n",
    "# Print the predictions\n",
    "\n",
    "for i in range(len(X_test)):\n",
    "\n",
    "number = X_test[i]\n",
    "\n",
    "prediction = \"Even\" if predictions[i] > 0.5 else \"Odd\"\n",
    "\n",
    "print(f\"Number: {number}, Prediction: {prediction}\")"
   ]
  }
 ],
 "metadata": {
  "language_info": {
   "name": "python"
  },
  "orig_nbformat": 4
 },
 "nbformat": 4,
 "nbformat_minor": 2
}
