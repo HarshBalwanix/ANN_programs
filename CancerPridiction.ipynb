{
  "metadata": {
    "kernelspec": {
      "display_name": "Python 3",
      "name": "python3"
    },
    "language_info": {
      "name": "python",
      "version": "3.7.12",
      "mimetype": "text/x-python",
      "codemirror_mode": {
        "name": "ipython",
        "version": 3
      },
      "pygments_lexer": "ipython3",
      "nbconvert_exporter": "python",
      "file_extension": ".py"
    },
    "colab": {
      "provenance": [],
      "gpuType": "T4",
      "cell_execution_strategy": "setup"
    },
    "accelerator": "GPU"
  },
  "nbformat_minor": 0,
  "nbformat": 4,
  "cells": [
    {
      "cell_type": "code",
      "source": [
        "import numpy as np\n",
        "import numpy as np\n",
        "import pandas as pd\n",
        "import matplotlib.pyplot as plt\n",
        "import tensorflow as tf\n",
        "from keras import Sequential\n",
        "from tensorflow.keras.layers import *\n",
        "from tensorflow.keras.models import *\n",
        "from tensorflow.keras.preprocessing import image"
      ],
      "metadata": {
        "execution": {
          "iopub.status.busy": "2023-07-11T17:58:58.198714Z",
          "iopub.execute_input": "2023-07-11T17:58:58.199525Z",
          "iopub.status.idle": "2023-07-11T17:58:58.209056Z",
          "shell.execute_reply.started": "2023-07-11T17:58:58.199480Z",
          "shell.execute_reply": "2023-07-11T17:58:58.207882Z"
        },
        "trusted": true,
        "id": "bIWKqNkLJikW"
      },
      "execution_count": null,
      "outputs": []
    },
    {
      "cell_type": "code",
      "source": [
        "train_path= \"/content/drive/MyDrive/Colab Notebooks/Breast_Cancer/train\"\n",
        "test_path=\"/content/drive/MyDrive/Colab Notebooks/Breast_Cancer/validation\""
      ],
      "metadata": {
        "execution": {
          "iopub.status.busy": "2023-07-11T17:58:58.213025Z",
          "iopub.execute_input": "2023-07-11T17:58:58.214219Z",
          "iopub.status.idle": "2023-07-11T17:58:58.224646Z",
          "shell.execute_reply.started": "2023-07-11T17:58:58.214172Z",
          "shell.execute_reply": "2023-07-11T17:58:58.223484Z"
        },
        "trusted": true,
        "id": "omzbtBy0JikX"
      },
      "execution_count": null,
      "outputs": []
    },
    {
      "cell_type": "code",
      "source": [
        "from google.colab import drive\n",
        "drive.mount('/content/drive')"
      ],
      "metadata": {
        "colab": {
          "base_uri": "https://localhost:8080/"
        },
        "id": "_balhmL1KddN",
        "outputId": "f9eb1d8d-2434-4e8b-a5ac-2c9720953828"
      },
      "execution_count": null,
      "outputs": [
        {
          "output_type": "stream",
          "name": "stdout",
          "text": [
            "Mounted at /content/drive\n"
          ]
        }
      ]
    },
    {
      "cell_type": "code",
      "source": [
        "train_datagen = image.ImageDataGenerator(\n",
        "    rotation_range=15,\n",
        "    shear_range=0.2,\n",
        "    zoom_range=0.2,\n",
        "    horizontal_flip=True,\n",
        "    fill_mode='nearest',\n",
        "    width_shift_range=0.1,\n",
        "    height_shift_range=0.1\n",
        ")\n",
        "val_datagen= image.ImageDataGenerator(    rotation_range=15,\n",
        "    shear_range=0.2,\n",
        "    zoom_range=0.2,\n",
        "    horizontal_flip=True,\n",
        "    fill_mode='nearest',\n",
        "    width_shift_range=0.1,\n",
        "    height_shift_range=0.1)"
      ],
      "metadata": {
        "execution": {
          "iopub.status.busy": "2023-07-11T17:58:58.227637Z",
          "iopub.execute_input": "2023-07-11T17:58:58.231111Z",
          "iopub.status.idle": "2023-07-11T17:58:58.243069Z",
          "shell.execute_reply.started": "2023-07-11T17:58:58.231058Z",
          "shell.execute_reply": "2023-07-11T17:58:58.241772Z"
        },
        "trusted": true,
        "id": "o-TYPpkFJikY"
      },
      "execution_count": null,
      "outputs": []
    },
    {
      "cell_type": "code",
      "source": [
        "train_generator = train_datagen.flow_from_directory(\n",
        "    train_path,\n",
        "    target_size = (224,224),\n",
        "    batch_size = 4,\n",
        "    class_mode = 'binary')\n",
        "validation_generator = val_datagen.flow_from_directory(\n",
        "    test_path,\n",
        "    target_size = (224,224),\n",
        "    batch_size = 4,\n",
        "    shuffle=True,\n",
        "    class_mode = 'binary')"
      ],
      "metadata": {
        "execution": {
          "iopub.status.busy": "2023-07-11T17:58:58.246865Z",
          "iopub.execute_input": "2023-07-11T17:58:58.248354Z",
          "iopub.status.idle": "2023-07-11T17:58:58.471819Z",
          "shell.execute_reply.started": "2023-07-11T17:58:58.248309Z",
          "shell.execute_reply": "2023-07-11T17:58:58.470765Z"
        },
        "trusted": true,
        "colab": {
          "base_uri": "https://localhost:8080/"
        },
        "id": "rwfuTwa6JikZ",
        "outputId": "dbfcfa8b-81d5-48d9-c420-227ac71f2335"
      },
      "execution_count": null,
      "outputs": [
        {
          "output_type": "stream",
          "name": "stdout",
          "text": [
            "Found 1411 images belonging to 2 classes.\n",
            "Found 85 images belonging to 2 classes.\n"
          ]
        }
      ]
    },
    {
      "cell_type": "code",
      "source": [
        "model = Sequential()\n",
        "\n",
        "# Convolutional layers\n",
        "model.add(Conv2D(32, (3, 3), activation='relu', input_shape=(224, 224, 3)))\n",
        "model.add(MaxPooling2D((2, 2)))\n",
        "\n",
        "model.add(Conv2D(64, (3, 3), activation='relu'))\n",
        "model.add(MaxPooling2D((2, 2)))\n",
        "\n",
        "model.add(Conv2D(128, (3, 3), activation='relu'))\n",
        "model.add(MaxPooling2D((2, 2)))\n",
        "\n",
        "model.add(Conv2D(128, (3, 3), activation='relu'))\n",
        "model.add(MaxPooling2D((2, 2)))\n",
        "\n",
        "model.add(Flatten())\n",
        "\n",
        "# Dense layers\n",
        "model.add(Dense(512, activation='relu'))\n",
        "model.add(Dropout(0.5))\n",
        "\n",
        "model.add(Dense(1, activation='sigmoid'))\n",
        "\n",
        "model.summary()"
      ],
      "metadata": {
        "execution": {
          "iopub.status.busy": "2023-07-11T17:58:58.473572Z",
          "iopub.execute_input": "2023-07-11T17:58:58.473927Z",
          "iopub.status.idle": "2023-07-11T17:58:58.621480Z",
          "shell.execute_reply.started": "2023-07-11T17:58:58.473894Z",
          "shell.execute_reply": "2023-07-11T17:58:58.620511Z"
        },
        "trusted": true,
        "colab": {
          "base_uri": "https://localhost:8080/"
        },
        "id": "CS-FGn3ZJika",
        "outputId": "a94fed59-b716-462c-bba1-d6438d5e7c10"
      },
      "execution_count": null,
      "outputs": [
        {
          "output_type": "stream",
          "name": "stdout",
          "text": [
            "Model: \"sequential\"\n",
            "_________________________________________________________________\n",
            " Layer (type)                Output Shape              Param #   \n",
            "=================================================================\n",
            " conv2d (Conv2D)             (None, 222, 222, 32)      896       \n",
            "                                                                 \n",
            " max_pooling2d (MaxPooling2D  (None, 111, 111, 32)     0         \n",
            " )                                                               \n",
            "                                                                 \n",
            " conv2d_1 (Conv2D)           (None, 109, 109, 64)      18496     \n",
            "                                                                 \n",
            " max_pooling2d_1 (MaxPooling  (None, 54, 54, 64)       0         \n",
            " 2D)                                                             \n",
            "                                                                 \n",
            " conv2d_2 (Conv2D)           (None, 52, 52, 128)       73856     \n",
            "                                                                 \n",
            " max_pooling2d_2 (MaxPooling  (None, 26, 26, 128)      0         \n",
            " 2D)                                                             \n",
            "                                                                 \n",
            " conv2d_3 (Conv2D)           (None, 24, 24, 128)       147584    \n",
            "                                                                 \n",
            " max_pooling2d_3 (MaxPooling  (None, 12, 12, 128)      0         \n",
            " 2D)                                                             \n",
            "                                                                 \n",
            " flatten (Flatten)           (None, 18432)             0         \n",
            "                                                                 \n",
            " dense (Dense)               (None, 512)               9437696   \n",
            "                                                                 \n",
            " dropout (Dropout)           (None, 512)               0         \n",
            "                                                                 \n",
            " dense_1 (Dense)             (None, 1)                 513       \n",
            "                                                                 \n",
            "=================================================================\n",
            "Total params: 9,679,041\n",
            "Trainable params: 9,679,041\n",
            "Non-trainable params: 0\n",
            "_________________________________________________________________\n"
          ]
        }
      ]
    },
    {
      "cell_type": "code",
      "source": [
        "model.compile(loss='binary_crossentropy',\n",
        "              optimizer='adam',\n",
        "              metrics=['accuracy','AUC','Precision','Recall'])"
      ],
      "metadata": {
        "execution": {
          "iopub.status.busy": "2023-07-11T17:58:58.626539Z",
          "iopub.execute_input": "2023-07-11T17:58:58.628875Z",
          "iopub.status.idle": "2023-07-11T17:58:58.645025Z",
          "shell.execute_reply.started": "2023-07-11T17:58:58.628827Z",
          "shell.execute_reply": "2023-07-11T17:58:58.643856Z"
        },
        "trusted": true,
        "id": "HCJ3PUInJikb"
      },
      "execution_count": null,
      "outputs": []
    },
    {
      "cell_type": "code",
      "source": [
        "from tensorflow.keras.callbacks import ModelCheckpoint, EarlyStopping\n",
        "es=EarlyStopping(patience=3,monitor='val_loss')\n",
        "filepath='best_model.h5'\n",
        "checkpoint = ModelCheckpoint(filepath, monitor='val_accuracy', verbose=1, save_best_only=True, mode='max')\n",
        "history = model.fit(\n",
        "    train_generator,\n",
        "    epochs=10,\n",
        "    validation_data=validation_generator,\n",
        "    steps_per_epoch= 50,\n",
        "    callbacks=checkpoint\n",
        "    )"
      ],
      "metadata": {
        "execution": {
          "iopub.status.busy": "2023-07-11T17:58:58.651120Z",
          "iopub.execute_input": "2023-07-11T17:58:58.654215Z",
          "iopub.status.idle": "2023-07-11T17:58:59.426104Z",
          "shell.execute_reply.started": "2023-07-11T17:58:58.654164Z",
          "shell.execute_reply": "2023-07-11T17:58:59.420225Z"
        },
        "trusted": true,
        "colab": {
          "base_uri": "https://localhost:8080/"
        },
        "id": "NPU7JsX7Jikc",
        "outputId": "65bbea4e-d61e-4c4f-d332-2a971716d4c2"
      },
      "execution_count": null,
      "outputs": [
        {
          "output_type": "stream",
          "name": "stdout",
          "text": [
            "Epoch 1/10\n",
            "50/50 [==============================] - ETA: 0s - loss: 6.1556 - accuracy: 0.5100 - auc: 0.5490 - precision: 0.5446 - recall: 0.5648\n",
            "Epoch 1: val_accuracy improved from -inf to 0.63529, saving model to best_model.h5\n",
            "50/50 [==============================] - 58s 816ms/step - loss: 6.1556 - accuracy: 0.5100 - auc: 0.5490 - precision: 0.5446 - recall: 0.5648 - val_loss: 0.6381 - val_accuracy: 0.6353 - val_auc: 0.7122 - val_precision: 0.6522 - val_recall: 0.6667\n",
            "Epoch 2/10\n",
            "50/50 [==============================] - ETA: 0s - loss: 0.7135 - accuracy: 0.5600 - auc: 0.5467 - precision: 0.5281 - recall: 0.5054\n",
            "Epoch 2: val_accuracy did not improve from 0.63529\n",
            "50/50 [==============================] - 22s 441ms/step - loss: 0.7135 - accuracy: 0.5600 - auc: 0.5467 - precision: 0.5281 - recall: 0.5054 - val_loss: 0.6538 - val_accuracy: 0.6353 - val_auc: 0.7175 - val_precision: 0.6296 - val_recall: 0.7556\n",
            "Epoch 3/10\n",
            "50/50 [==============================] - ETA: 0s - loss: 0.7165 - accuracy: 0.4900 - auc: 0.4986 - precision: 0.4955 - recall: 0.5446\n",
            "Epoch 3: val_accuracy did not improve from 0.63529\n",
            "50/50 [==============================] - 18s 363ms/step - loss: 0.7165 - accuracy: 0.4900 - auc: 0.4986 - precision: 0.4955 - recall: 0.5446 - val_loss: 0.7223 - val_accuracy: 0.3765 - val_auc: 0.3264 - val_precision: 0.4310 - val_recall: 0.5556\n",
            "Epoch 4/10\n",
            "50/50 [==============================] - ETA: 0s - loss: 0.6949 - accuracy: 0.6000 - auc: 0.5912 - precision: 0.6018 - recall: 0.6602\n",
            "Epoch 4: val_accuracy did not improve from 0.63529\n",
            "50/50 [==============================] - 17s 347ms/step - loss: 0.6949 - accuracy: 0.6000 - auc: 0.5912 - precision: 0.6018 - recall: 0.6602 - val_loss: 0.6845 - val_accuracy: 0.5176 - val_auc: 0.5875 - val_precision: 0.5588 - val_recall: 0.4222\n",
            "Epoch 5/10\n",
            "50/50 [==============================] - ETA: 0s - loss: 0.7010 - accuracy: 0.5300 - auc: 0.5549 - precision: 0.5281 - recall: 0.4747\n",
            "Epoch 5: val_accuracy did not improve from 0.63529\n",
            "50/50 [==============================] - 15s 291ms/step - loss: 0.7010 - accuracy: 0.5300 - auc: 0.5549 - precision: 0.5281 - recall: 0.4747 - val_loss: 0.7186 - val_accuracy: 0.3412 - val_auc: 0.3164 - val_precision: 0.3878 - val_recall: 0.4222\n",
            "Epoch 6/10\n",
            "50/50 [==============================] - ETA: 0s - loss: 0.6772 - accuracy: 0.5650 - auc: 0.5967 - precision: 0.5465 - recall: 0.4947\n",
            "Epoch 6: val_accuracy did not improve from 0.63529\n",
            "50/50 [==============================] - 15s 296ms/step - loss: 0.6772 - accuracy: 0.5650 - auc: 0.5967 - precision: 0.5465 - recall: 0.4947 - val_loss: 0.7023 - val_accuracy: 0.4706 - val_auc: 0.4619 - val_precision: 0.5000 - val_recall: 0.4889\n",
            "Epoch 7/10\n",
            "50/50 [==============================] - ETA: 0s - loss: 0.6788 - accuracy: 0.5850 - auc: 0.5897 - precision: 0.6033 - recall: 0.6759\n",
            "Epoch 7: val_accuracy did not improve from 0.63529\n",
            "50/50 [==============================] - 11s 215ms/step - loss: 0.6788 - accuracy: 0.5850 - auc: 0.5897 - precision: 0.6033 - recall: 0.6759 - val_loss: 0.6505 - val_accuracy: 0.5647 - val_auc: 0.6967 - val_precision: 0.5541 - val_recall: 0.9111\n",
            "Epoch 8/10\n",
            "50/50 [==============================] - ETA: 0s - loss: 0.6847 - accuracy: 0.5900 - auc: 0.5969 - precision: 0.5956 - recall: 0.7500\n",
            "Epoch 8: val_accuracy did not improve from 0.63529\n",
            "50/50 [==============================] - 11s 218ms/step - loss: 0.6847 - accuracy: 0.5900 - auc: 0.5969 - precision: 0.5956 - recall: 0.7500 - val_loss: 0.8645 - val_accuracy: 0.6118 - val_auc: 0.6200 - val_precision: 0.5789 - val_recall: 0.9778\n",
            "Epoch 9/10\n",
            "50/50 [==============================] - ETA: 0s - loss: 0.6961 - accuracy: 0.5900 - auc: 0.6012 - precision: 0.5897 - recall: 0.6699\n",
            "Epoch 9: val_accuracy did not improve from 0.63529\n",
            "50/50 [==============================] - 11s 223ms/step - loss: 0.6961 - accuracy: 0.5900 - auc: 0.6012 - precision: 0.5897 - recall: 0.6699 - val_loss: 0.6694 - val_accuracy: 0.6000 - val_auc: 0.6303 - val_precision: 0.5753 - val_recall: 0.9333\n",
            "Epoch 10/10\n",
            "50/50 [==============================] - ETA: 0s - loss: 0.6729 - accuracy: 0.6600 - auc: 0.6540 - precision: 0.6484 - recall: 0.6211\n",
            "Epoch 10: val_accuracy did not improve from 0.63529\n",
            "50/50 [==============================] - 9s 176ms/step - loss: 0.6729 - accuracy: 0.6600 - auc: 0.6540 - precision: 0.6484 - recall: 0.6211 - val_loss: 0.7076 - val_accuracy: 0.5882 - val_auc: 0.6244 - val_precision: 0.5758 - val_recall: 0.8444\n"
          ]
        }
      ]
    },
    {
      "cell_type": "code",
      "source": [
        "model.evaluate(train_generator)"
      ],
      "metadata": {
        "execution": {
          "iopub.status.busy": "2023-07-11T17:58:59.429413Z",
          "iopub.status.idle": "2023-07-11T17:58:59.432170Z",
          "shell.execute_reply.started": "2023-07-11T17:58:59.431871Z",
          "shell.execute_reply": "2023-07-11T17:58:59.431903Z"
        },
        "trusted": true,
        "colab": {
          "base_uri": "https://localhost:8080/"
        },
        "id": "TbB0dYJiJikd",
        "outputId": "2c77fc61-3e11-4abb-fe01-7a70aa8c9a9c"
      },
      "execution_count": null,
      "outputs": [
        {
          "output_type": "stream",
          "name": "stdout",
          "text": [
            "353/353 [==============================] - 53s 151ms/step - loss: 0.7172 - accuracy: 0.5734 - auc: 0.5950 - precision: 0.5708 - recall: 0.5692\n"
          ]
        },
        {
          "output_type": "execute_result",
          "data": {
            "text/plain": [
              "[0.7172458171844482,\n",
              " 0.5733522176742554,\n",
              " 0.5950081944465637,\n",
              " 0.5708154439926147,\n",
              " 0.5691868662834167]"
            ]
          },
          "metadata": {},
          "execution_count": 10
        }
      ]
    },
    {
      "cell_type": "code",
      "source": [
        "model.evaluate(validation_generator)"
      ],
      "metadata": {
        "execution": {
          "iopub.status.busy": "2023-07-11T17:58:59.435226Z",
          "iopub.status.idle": "2023-07-11T17:58:59.436303Z",
          "shell.execute_reply.started": "2023-07-11T17:58:59.435965Z",
          "shell.execute_reply": "2023-07-11T17:58:59.435999Z"
        },
        "trusted": true,
        "colab": {
          "base_uri": "https://localhost:8080/"
        },
        "id": "It4SrcyZJikd",
        "outputId": "8be02b95-3b5c-4d83-b8f7-14bbd34fc41c"
      },
      "execution_count": null,
      "outputs": [
        {
          "output_type": "stream",
          "name": "stdout",
          "text": [
            "22/22 [==============================] - 2s 78ms/step - loss: 0.7492 - accuracy: 0.5529 - auc: 0.5400 - precision: 0.5522 - recall: 0.8222\n"
          ]
        },
        {
          "output_type": "execute_result",
          "data": {
            "text/plain": [
              "[0.7491974234580994,\n",
              " 0.5529412031173706,\n",
              " 0.5399999618530273,\n",
              " 0.5522388219833374,\n",
              " 0.8222222328186035]"
            ]
          },
          "metadata": {},
          "execution_count": 11
        }
      ]
    },
    {
      "cell_type": "code",
      "source": [
        "img = image.load_img(\"/content/drive/MyDrive/Colab Notebooks/Breast_Cancer/validation/Healthy/S_67.jpg\",target_size=(224,224))\n",
        "imag = image.img_to_array(img)\n",
        "imaga = np.expand_dims(imag,axis=0)\n",
        "ypred = model.predict(imaga)\n",
        "print(ypred)\n",
        "a=ypred[0]\n",
        "if a<0.5:\n",
        "      op=\"Healthy\"\n",
        "else:\n",
        "      op=\"Cancer\"\n",
        "plt.imshow(img)\n",
        "print(\"THE UPLOADED IMAGE IS SUSPECTED AS: \"+str(op))"
      ],
      "metadata": {
        "execution": {
          "iopub.status.busy": "2023-07-11T17:58:59.442818Z",
          "iopub.status.idle": "2023-07-11T17:58:59.443658Z",
          "shell.execute_reply.started": "2023-07-11T17:58:59.443388Z",
          "shell.execute_reply": "2023-07-11T17:58:59.443414Z"
        },
        "trusted": true,
        "colab": {
          "base_uri": "https://localhost:8080/",
          "height": 486
        },
        "id": "ar7I9QCBJike",
        "outputId": "d5f06fb7-c1c7-4057-947e-60c1a13a18b1"
      },
      "execution_count": null,
      "outputs": [
        {
          "output_type": "stream",
          "name": "stdout",
          "text": [
            "1/1 [==============================] - 0s 31ms/step\n",
            "[[0.52923596]]\n",
            "THE UPLOADED IMAGE IS SUSPECTED AS: Cancer\n"
          ]
        },
        {
          "output_type": "display_data",
          "data": {
            "text/plain": [
              "<Figure size 640x480 with 1 Axes>"
            ],
            "image/png": "[encoded data removed]"
          },
          "metadata": {}
        }
      ]
    },
    {
      "cell_type": "code",
      "source": [],
      "metadata": {
        "id": "hWQxoEZkjHO_"
      },
      "execution_count": null,
      "outputs": []
    }
  ]
}